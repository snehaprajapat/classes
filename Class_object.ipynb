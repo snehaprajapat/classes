{
 "cells": [
  {
   "cell_type": "code",
   "execution_count": 1,
   "id": "7cb241a5-f793-49e0-b609-db009de47a27",
   "metadata": {},
   "outputs": [
    {
     "name": "stdout",
     "output_type": "stream",
     "text": [
      "Aura\n",
      "x\n"
     ]
    }
   ],
   "source": [
    "class car():\n",
    "    name='Aura'\n",
    "    brand='x'\n",
    "s=car()\n",
    "print(car.name)\n",
    "print(car.brand)"
   ]
  },
  {
   "cell_type": "code",
   "execution_count": 7,
   "id": "10a43edc-2034-4400-ad1a-6292c36ce073",
   "metadata": {},
   "outputs": [
    {
     "name": "stdout",
     "output_type": "stream",
     "text": [
      "sneha 97\n",
      "mona 89\n"
     ]
    }
   ],
   "source": [
    "#creating class\n",
    "class student():\n",
    "    #parameterized constructor\n",
    "    #Attributes\n",
    "    college_name='Avantika'\n",
    "    name='priya' #class attr\n",
    "    \n",
    "    def __init__(self,name,marks):\n",
    "        self.name=name   #ohj attr>class\n",
    "        self.marks=marks\n",
    "#name,marks - attributes\n",
    "#creating object\n",
    "\n",
    "s1=student('sneha',97)\n",
    "print(s1.name, s1.marks)\n",
    "\n",
    "s2=student('mona',89)\n",
    "print(s2.name,s2.marks)"
   ]
  },
  {
   "cell_type": "code",
   "execution_count": 9,
   "id": "47b99b09-1fec-4dd0-b59d-1e6247c2f7af",
   "metadata": {},
   "outputs": [
    {
     "name": "stdout",
     "output_type": "stream",
     "text": [
      "sneha 97\n",
      "mona 89\n",
      "Welcome student\n"
     ]
    },
    {
     "data": {
      "text/plain": [
       "89"
      ]
     },
     "execution_count": 9,
     "metadata": {},
     "output_type": "execute_result"
    }
   ],
   "source": [
    "class student():\n",
    "\n",
    "    college_name='Avantika'\n",
    "    name='priya'\n",
    "    \n",
    "    def __init__(self,name,marks):\n",
    "        self.name=name   #ohj attr>class\n",
    "        self.marks=marks\n",
    "\n",
    "    def welcome(self):\n",
    "        print('Welcome student')\n",
    "\n",
    "    def get_marks(self):\n",
    "        return self.marks\n",
    "        \n",
    "s1=student('sneha',97)\n",
    "print(s1.name, s1.marks)\n",
    "\n",
    "s2=student('mona',89)\n",
    "print(s2.name,s2.marks)\n",
    "s2.welcome()\n",
    "s2.get_marks()"
   ]
  },
  {
   "cell_type": "code",
   "execution_count": 20,
   "id": "77ac3b61-2739-490d-8cfd-531a198f49c7",
   "metadata": {},
   "outputs": [
    {
     "name": "stdout",
     "output_type": "stream",
     "text": [
      "sneha [90, 89, 99]\n",
      "Average marks :  92.66666666666667\n",
      "payal [45, 70, 89]\n",
      "Average marks :  68.0\n"
     ]
    }
   ],
   "source": [
    "class Student():\n",
    "    def __init__(self,name,marks):\n",
    "        self.name=name\n",
    "        self.marks=marks\n",
    "\n",
    "    def get_avg(self):\n",
    "        sum=0\n",
    "        for mark in self.marks:\n",
    "            sum+=mark\n",
    "        print('Average marks : ',sum/3)\n",
    "\n",
    "s1=Student('sneha',[90,89,99])\n",
    "print(s1.name,s1.marks)\n",
    "s1.get_avg()\n",
    "\n",
    "s2=Student('payal',[45,70,89])\n",
    "print(s2.name,s2.marks)\n",
    "s2.get_avg()\n"
   ]
  },
  {
   "cell_type": "code",
   "execution_count": 23,
   "id": "8a4b280b-bd8c-4f94-a6db-182ce009ae81",
   "metadata": {},
   "outputs": [
    {
     "name": "stdout",
     "output_type": "stream",
     "text": [
      "MIT\n"
     ]
    }
   ],
   "source": [
    "#static method\n",
    "#don't use self parameter\n",
    "class Student():\n",
    "    @staticmethod   #decorator\n",
    "    def college():\n",
    "        print('MIT')\n",
    "\n",
    "s1=Student()\n",
    "s1.college()\n"
   ]
  },
  {
   "cell_type": "code",
   "execution_count": 5,
   "id": "0ded9f4c-8776-4db3-8605-e8a4734ccbd7",
   "metadata": {},
   "outputs": [
    {
     "name": "stdout",
     "output_type": "stream",
     "text": [
      "kitty black\n",
      "Meow!\n"
     ]
    }
   ],
   "source": [
    "class cat():\n",
    "    \n",
    "    #Attributes\n",
    "    name='kitty'\n",
    "    color='black'\n",
    "\n",
    "    #Method\n",
    "    def Meow(self):\n",
    "        print('Meow!')\n",
    "\n",
    "#Instance\n",
    "obj=cat()\n",
    "print(obj.name, obj.color)\n",
    "\n",
    "obj.Meow()\n",
    "    "
   ]
  },
  {
   "cell_type": "code",
   "execution_count": 8,
   "id": "40f6cc2e-eda0-4206-a3c4-efc12b7011bb",
   "metadata": {},
   "outputs": [
    {
     "name": "stdout",
     "output_type": "stream",
     "text": [
      "Car started!\n"
     ]
    }
   ],
   "source": [
    "#Abstraction (hide implementation details)\n",
    "class car():\n",
    "    def __init__(self):\n",
    "        self.acc=False\n",
    "        self.clutch=False\n",
    "        self.brk=False\n",
    "\n",
    "    def start(self):\n",
    "        self.acc=True\n",
    "        self.clutch=True\n",
    "        print('Car started!')\n",
    "\n",
    "obj=car()\n",
    "obj.start()"
   ]
  },
  {
   "cell_type": "code",
   "execution_count": 11,
   "id": "60a2730e-303e-4a0d-912a-f06401ca1097",
   "metadata": {},
   "outputs": [
    {
     "name": "stdout",
     "output_type": "stream",
     "text": [
      "10000 123456\n",
      "50000 7587\n"
     ]
    }
   ],
   "source": [
    "class Account():\n",
    "    def __init__(self,balance,account_no):\n",
    "        self.balance = balance\n",
    "        self.account_no = account_no\n",
    "\n",
    "acc1=Account(10000,123456)\n",
    "print(acc1.balance, acc1.account_no)\n",
    "\n",
    "acc2=Account(50000,7587)\n",
    "print(acc2.balance, acc2.account_no)"
   ]
  },
  {
   "cell_type": "code",
   "execution_count": 19,
   "id": "839c16d5-8d76-4c2e-b3a9-29eb92610610",
   "metadata": {},
   "outputs": [
    {
     "name": "stdout",
     "output_type": "stream",
     "text": [
      "10000 123456\n",
      "('Credited', 'Available balance = ', 15000)\n",
      "('Debited', 'Available balance = ', 14500)\n"
     ]
    }
   ],
   "source": [
    "class Account():\n",
    "    def __init__(self,balance,account_no):\n",
    "        self.balance = balance\n",
    "        self.account_no = account_no\n",
    "\n",
    "    def credit(self,amount):\n",
    "        self.balance+=amount\n",
    "        return 'Credited','Available balance = ',self.balance\n",
    "\n",
    "    def debit(self,amount):\n",
    "        self.balance-=amount\n",
    "        return 'Debited','Available balance = ',self.balance\n",
    "\n",
    "acc1=Account(10000,123456)\n",
    "print(acc1.balance, acc1.account_no)\n",
    "print(acc1.credit(5000))\n",
    "print(acc1.debit(500))\n"
   ]
  },
  {
   "cell_type": "code",
   "execution_count": 28,
   "id": "57d5084d-f1b0-4511-b247-6260045f2424",
   "metadata": {},
   "outputs": [
    {
     "data": {
      "text/plain": [
       "'MIT'"
      ]
     },
     "execution_count": 28,
     "metadata": {},
     "output_type": "execute_result"
    }
   ],
   "source": [
    "#Without Static method\n",
    "\n",
    "class Student():\n",
    "    def __init__(self):\n",
    "        self.name='sneha'\n",
    "    \n",
    "    def college(self):\n",
    "        return 'MIT'\n",
    "\n",
    "s1=Student()\n",
    "s1.college()\n"
   ]
  },
  {
   "cell_type": "code",
   "execution_count": 35,
   "id": "e15be596-7053-4cda-8114-7602996f52c6",
   "metadata": {},
   "outputs": [
    {
     "ename": "AttributeError",
     "evalue": "'person' object has no attribute 'name'",
     "output_type": "error",
     "traceback": [
      "\u001b[1;31m---------------------------------------------------------------------------\u001b[0m",
      "\u001b[1;31mAttributeError\u001b[0m                            Traceback (most recent call last)",
      "Cell \u001b[1;32mIn[35], line 12\u001b[0m\n\u001b[0;32m      9\u001b[0m         \u001b[38;5;28mself\u001b[39m\u001b[38;5;241m.\u001b[39mhello()\n\u001b[0;32m     11\u001b[0m p1\u001b[38;5;241m=\u001b[39mperson()\n\u001b[1;32m---> 12\u001b[0m \u001b[38;5;28mprint\u001b[39m(\u001b[43mp1\u001b[49m\u001b[38;5;241;43m.\u001b[39;49m\u001b[43mname\u001b[49m)\n\u001b[0;32m     13\u001b[0m p1\u001b[38;5;241m.\u001b[39mhello()\n",
      "\u001b[1;31mAttributeError\u001b[0m: 'person' object has no attribute 'name'"
     ]
    }
   ],
   "source": [
    "#private info\n",
    "class person():\n",
    "    __name='sneha'\n",
    "\n",
    "    def __hello(self):\n",
    "        return 'hello person'\n",
    "\n",
    "    def welcome(self):\n",
    "        self.__hello()\n",
    "\n",
    "p1=person()\n",
    "print(p1.name)\n",
    "p1.hello()\n"
   ]
  },
  {
   "cell_type": "code",
   "execution_count": 39,
   "id": "50a582fa-b400-4b76-b79e-525f2c183c0f",
   "metadata": {},
   "outputs": [
    {
     "name": "stdout",
     "output_type": "stream",
     "text": [
      "hello person\n",
      "None\n"
     ]
    }
   ],
   "source": [
    "#private info\n",
    "class person():\n",
    "    __name='sneha'\n",
    "\n",
    "    def __hello(self):\n",
    "        print('hello person')\n",
    "\n",
    "    def welcome(self):\n",
    "        self.__hello()\n",
    "\n",
    "p1=person()\n",
    "print(p1.welcome())\n"
   ]
  },
  {
   "cell_type": "code",
   "execution_count": 53,
   "id": "59217024-f43a-4dd4-97ad-3a47dac9cbb2",
   "metadata": {},
   "outputs": [
    {
     "name": "stdout",
     "output_type": "stream",
     "text": [
      "fortuner\n",
      "Car started..\n",
      "Car stopped..\n",
      "black\n",
      "prius\n",
      "Car started..\n",
      "Car stopped..\n"
     ]
    }
   ],
   "source": [
    "#Inheritance\n",
    "class Car:\n",
    "    color='black'\n",
    "    @staticmethod\n",
    "    def start():\n",
    "        print(\"Car started..\")\n",
    "    @staticmethod\n",
    "    def stop():\n",
    "        print(\"Car stopped..\")\n",
    "\n",
    "class ToyataCar(Car):\n",
    "    def __init__(self,name):\n",
    "        self.name=name\n",
    "        \n",
    "car1=ToyataCar('fortuner')\n",
    "print(car1.name)\n",
    "car1.start()\n",
    "car1.stop()\n",
    "print(car1.color)\n",
    "\n",
    "car2=ToyataCar('prius')\n",
    "print(car2.name)\n",
    "car2.start()\n",
    "car2.stop()"
   ]
  },
  {
   "cell_type": "code",
   "execution_count": 54,
   "id": "bc7539a4-c142-456b-a11f-429b457f6922",
   "metadata": {},
   "outputs": [
    {
     "name": "stdout",
     "output_type": "stream",
     "text": [
      "fortuner\n",
      "Car started..\n",
      "Car stopped..\n",
      "black\n",
      "prius\n",
      "Car started..\n",
      "Car stopped..\n"
     ]
    }
   ],
   "source": [
    "#Inheritance\n",
    "class Car:\n",
    "    color='black'\n",
    "    @staticmethod\n",
    "    def start():\n",
    "        print(\"Car started..\")\n",
    "    @staticmethod\n",
    "    def stop():\n",
    "        print(\"Car stopped..\")\n",
    "        \n",
    "class ToyataCar(Car):\n",
    "    def __init__(self,name):\n",
    "        self.name=name\n",
    "        \n",
    "car1=ToyataCar('fortuner')\n",
    "print(car1.name)\n",
    "car1.start()\n",
    "car1.stop()\n",
    "print(car1.color)\n",
    "\n",
    "car2=ToyataCar('prius')\n",
    "print(car2.name)\n",
    "car2.start()\n",
    "car2.stop()"
   ]
  },
  {
   "cell_type": "code",
   "execution_count": 57,
   "id": "3fa8ae58-aafd-49a2-adab-a54ad519d999",
   "metadata": {},
   "outputs": [
    {
     "name": "stdout",
     "output_type": "stream",
     "text": [
      "diesel\n",
      "Car started..\n"
     ]
    }
   ],
   "source": [
    "#Multi level inheritance\n",
    "class Car:\n",
    "    color='black'\n",
    "    @staticmethod\n",
    "    def start():\n",
    "        print(\"Car started..\")\n",
    "    @staticmethod\n",
    "    def stop():\n",
    "        print(\"Car stopped..\")\n",
    "        \n",
    "class ToyataCar(Car):\n",
    "    def __init__(self,brand):\n",
    "        self.brand = brand\n",
    "\n",
    "class Fortuner(ToyataCar):\n",
    "    def __init__(self,type):\n",
    "        self.type=type\n",
    "\n",
    "car1 = Fortuner('diesel')\n",
    "print(car1.type)\n",
    "car1.start()"
   ]
  },
  {
   "cell_type": "code",
   "execution_count": 63,
   "id": "09a52ad7-cf2f-47ed-a05c-4a8c3f813ae9",
   "metadata": {},
   "outputs": [
    {
     "name": "stdout",
     "output_type": "stream",
     "text": [
      "class I\n",
      "class II\n",
      "class III\n",
      "None None None\n"
     ]
    }
   ],
   "source": [
    "#Multi level inheritance\n",
    "class A():\n",
    "    var1=print('class I')\n",
    "\n",
    "class B():\n",
    "    var2=print('class II')\n",
    "\n",
    "class C(A,B):\n",
    "    var3=print('class III')\n",
    "\n",
    "obj=C()\n",
    "print(obj.var1,obj.var2,obj.var3)\n"
   ]
  },
  {
   "cell_type": "code",
   "execution_count": 73,
   "id": "cc37d819-fce2-4115-bb68-a43341809a44",
   "metadata": {},
   "outputs": [
    {
     "name": "stdout",
     "output_type": "stream",
     "text": [
      "Car started..\n",
      "fortuner electric\n"
     ]
    }
   ],
   "source": [
    "#Super\n",
    "class Car:\n",
    "    def __init__(self,type):\n",
    "        self.type = type\n",
    "        \n",
    "    @staticmethod\n",
    "    def start():\n",
    "        print(\"Car started..\")\n",
    "    @staticmethod\n",
    "    def stop():\n",
    "        print(\"Car stopped..\")\n",
    "        \n",
    "class ToyataCar(Car):\n",
    "    def __init__(self,name,type):\n",
    "        super().__init__(type)\n",
    "        super().start()\n",
    "        self.name=name\n",
    "        \n",
    "        \n",
    "car1=ToyataCar('fortuner','electric')\n",
    "print(car1.name, car1.type)\n"
   ]
  },
  {
   "cell_type": "code",
   "execution_count": 77,
   "id": "8c297758-b582-482d-8f91-f6d145df0e4e",
   "metadata": {},
   "outputs": [
    {
     "name": "stdout",
     "output_type": "stream",
     "text": [
      "bhumi\n",
      "sneha\n"
     ]
    }
   ],
   "source": [
    "#to change class attributes\n",
    "class person():\n",
    "    name='sneha'\n",
    "\n",
    "    def change_name(self,name):\n",
    "        self.name=name\n",
    "\n",
    "p1=person()\n",
    "p1.change_name('bhumi')\n",
    "print(p1.name)\n",
    "print(person.name)"
   ]
  },
  {
   "cell_type": "code",
   "execution_count": 78,
   "id": "4c8ba08e-35a7-4bd7-9c8c-2d6cf0e51d15",
   "metadata": {},
   "outputs": [
    {
     "name": "stdout",
     "output_type": "stream",
     "text": [
      "bhumi\n",
      "bhumi\n"
     ]
    }
   ],
   "source": [
    "#to change class attributes\n",
    "class person():\n",
    "    name='sneha'\n",
    "\n",
    "    def change_name(self,name):\n",
    "        person.name=name \n",
    "\n",
    "p1=person()\n",
    "p1.change_name('bhumi')\n",
    "print(p1.name)\n",
    "print(person.name)"
   ]
  },
  {
   "cell_type": "code",
   "execution_count": 79,
   "id": "83174265-6118-4556-abde-79d174bdcf1e",
   "metadata": {},
   "outputs": [
    {
     "name": "stdout",
     "output_type": "stream",
     "text": [
      "bhumi\n",
      "bhumi\n"
     ]
    }
   ],
   "source": [
    "#to change class attributes\n",
    "#by @class method\n",
    "class person():\n",
    "    name='sneha'\n",
    "\n",
    "    @classmethod\n",
    "    def change_name(cls,name):\n",
    "        cls.name=name\n",
    "\n",
    "p1=person()\n",
    "p1.change_name('bhumi')\n",
    "print(p1.name)\n",
    "print(person.name)"
   ]
  },
  {
   "cell_type": "code",
   "execution_count": 91,
   "id": "1cbec770-fef7-4fed-ac31-6c545798616a",
   "metadata": {},
   "outputs": [
    {
     "name": "stdout",
     "output_type": "stream",
     "text": [
      "50.24\n",
      "25.12\n"
     ]
    }
   ],
   "source": [
    "class circle():\n",
    "    def __init__(self,radius):\n",
    "        self.radius=radius\n",
    "\n",
    "    def area(self):\n",
    "        self.area=3.14*self.radius*self.radius\n",
    "        return self.area\n",
    "\n",
    "    def peri(self):\n",
    "        self.peri=2*3.14*self.radius\n",
    "        return self.peri\n",
    "\n",
    "c1=circle(4)\n",
    "\n",
    "print(c1.area())\n",
    "print(c1.peri())"
   ]
  },
  {
   "cell_type": "code",
   "execution_count": 96,
   "id": "5bbc94ab-d933-4626-9f6d-9c01058b961e",
   "metadata": {},
   "outputs": [
    {
     "name": "stdout",
     "output_type": "stream",
     "text": [
      "rahul 20 Assist LU23 40000\n",
      "Role of Employee :  Assist\n",
      "Department of Employee :  LU23\n",
      "Salary of Employee :  40000\n"
     ]
    }
   ],
   "source": [
    "class Employee():\n",
    "    def __init__(self,role,dept,salary):\n",
    "        self.role=role\n",
    "        self.dept=dept\n",
    "        self.salary=salary\n",
    "\n",
    "    def show_details(self):\n",
    "        print('Role of Employee : ',self.role)\n",
    "        print('Department of Employee : ',self.dept)\n",
    "        print('Salary of Employee : ',self.salary)\n",
    "\n",
    "class Engineer(Employee):\n",
    "    def __init__(self,name,age,role,dept,salary):\n",
    "        super().__init__(role,dept,salary)\n",
    "        self.name=name\n",
    "        self.age=age\n",
    "\n",
    "E1=Engineer('rahul',20,'Assist','LU23',40000)\n",
    "\n",
    "E1.show_details()"
   ]
  },
  {
   "cell_type": "code",
   "execution_count": 113,
   "id": "805842f9-5487-4abc-ae9a-15583bf84054",
   "metadata": {},
   "outputs": [
    {
     "name": "stdout",
     "output_type": "stream",
     "text": [
      "Aditya\n",
      "AU23B1001\n",
      "Sneha\n",
      "AU23B1002\n",
      "6\n",
      "False\n"
     ]
    }
   ],
   "source": [
    "class person():\n",
    "    def __init__(self,name):\n",
    "        self.name=name\n",
    "\n",
    "    #Magic word\n",
    "    def __len__(self):\n",
    "        return len(self.name)\n",
    "\n",
    "    def __lt__(self,other):\n",
    "        return self.id<other.id\n",
    "\n",
    "class AU_person(person):\n",
    "    new_enroll=1\n",
    "    def __init__(self,name):\n",
    "        super().__init__(name)\n",
    "        self.id=AU_person.new_enroll\n",
    "        AU_person.new_enroll+=1\n",
    "        self._enroll='AU23B100'+str(self.id)\n",
    "\n",
    "    def get_id(self):\n",
    "        return self._enroll\n",
    "\n",
    "S1=AU_person('Aditya')\n",
    "print(S1.name)\n",
    "print(S1.get_id())\n",
    "\n",
    "S2=AU_person('Sneha')\n",
    "print(S2.name)\n",
    "print(S2.get_id())\n",
    "\n",
    "print(len(S1))\n",
    "print(S1>S2)"
   ]
  },
  {
   "cell_type": "code",
   "execution_count": 118,
   "id": "4dbd984d-9962-459b-adb4-8e18dcea0f18",
   "metadata": {},
   "outputs": [
    {
     "name": "stdout",
     "output_type": "stream",
     "text": [
      "20\n"
     ]
    }
   ],
   "source": [
    "from datetime import datetime\n",
    "class DOB():\n",
    "    def __init__(self,year,month,date):\n",
    "        self.year=year\n",
    "        self.month=month\n",
    "        self.date=date\n",
    "\n",
    "class Person():\n",
    "    def get_age(self,name,dob):\n",
    "        self.name=name\n",
    "        self.dob=dob\n",
    "        today=datetime.now().date()\n",
    "        age=today.year-self.dob.year\n",
    "        return age\n",
    "\n",
    "dob=DOB(2004,3,11)\n",
    "obj1=Person()\n",
    "print(obj1.get_age('sneha',dob))\n"
   ]
  },
  {
   "cell_type": "code",
   "execution_count": 3,
   "id": "86d3323e-803f-478a-951d-65826c3a616c",
   "metadata": {},
   "outputs": [
    {
     "ename": "TypeError",
     "evalue": "Individual.__init__() missing 1 required positional argument: 'name'",
     "output_type": "error",
     "traceback": [
      "\u001b[1;31m---------------------------------------------------------------------------\u001b[0m",
      "\u001b[1;31mTypeError\u001b[0m                                 Traceback (most recent call last)",
      "Cell \u001b[1;32mIn[3], line 9\u001b[0m\n\u001b[0;32m      6\u001b[0m     \u001b[38;5;28;01mdef\u001b[39;00m \u001b[38;5;21mget_name\u001b[39m(\u001b[38;5;28mself\u001b[39m):\n\u001b[0;32m      7\u001b[0m         \u001b[38;5;28;01mreturn\u001b[39;00m \u001b[38;5;28mself\u001b[39m\u001b[38;5;241m.\u001b[39mname\n\u001b[1;32m----> 9\u001b[0m obj\u001b[38;5;241m=\u001b[39m\u001b[43mIndividual\u001b[49m\u001b[43m(\u001b[49m\u001b[43m)\u001b[49m\n\u001b[0;32m     11\u001b[0m obj\u001b[38;5;241m.\u001b[39mget_name()\n",
      "\u001b[1;31mTypeError\u001b[0m: Individual.__init__() missing 1 required positional argument: 'name'"
     ]
    }
   ],
   "source": [
    "class Individual():\n",
    "    def __init__(self,name):\n",
    "        self.namae=name\n",
    "        self.birthday=None\n",
    "\n",
    "    def get_name(self,name):\n",
    "        return self.name\n",
    "\n",
    "    def add_birthday(self,birthday):\n",
    "        self.birthday=birthday\n",
    "\n",
    "    def get_age(self,name,dob):\n",
    "        self.name=name\n",
    "        self.dob=dob\n",
    "        today=datetime.now().date()\n",
    "        age=today.year-self.dob.year\n",
    "        return age\n",
    "\n",
    "    def __str__(self):\n",
    "        return str('Name : ' self.name, ' Birthday : 'self.birthday)\n",
    "\n",
    "class AU_Employee(Individual):\n",
    "    _new_enroll = 1\n",
    "    \n",
    "    def __init__(self, name):\n",
    "        super().__init__(name)\n",
    "        self.id = AU_Employee._new_enroll\n",
    "        AU_Employee._new_enroll += 1\n",
    "        self._strval = 'AU23B100' + str(self.id)\n",
    "    \n",
    "    def get_unique_id(self):\n",
    "       return self._strval\n",
    "\n",
    "\n",
    "class Faculty(AU_Employee):\n",
    "    pass\n",
    "\n",
    "\n",
    "class EN_Faculty(Faculty):\n",
    "    def __init__(self, name, classroom_year):\n",
    "        super().__init__(name)\n",
    "        self.classroom_year = classroom_year\n",
    "\n",
    "    def assign_class(self):\n",
    "        return self.classroom_year \n",
    "\n",
    "\n",
    "class Roster_AU():\n",
    "    def __init__(self):\n",
    "        self.faculties = []\n",
    "        self.course_assign = {}\n",
    "\n",
    "    def add_faculty(self,faculty_type, faculty):\n",
    "        self.faculty_type = faculty_type\n",
    "        if faculty not in self.faculties:\n",
    "            self.faculties.append(faculty)\n",
    "            self.course_assign[faculty] = []\n",
    "\n",
    "    def add_course(self, faculty, course):\n",
    "        if faculty not in self.course_assign:\n",
    "            raise ValueError(\"Faculty not in mapping\")\n",
    "        self.course_assign[faculty].append(course)\n",
    "\n",
    "    def get_courses(self, faculty):\n",
    "        if faculty not in self.course_assign:\n",
    "            raise ValueError(\"Faculty not in mapping\")\n",
    "        return self.course_assign[faculty]\n",
    "\n",
    "    def get_sorted_list(self):\n",
    "        return sorted(self.course_assign.keys(), key=lambda x: x.get_name())\n",
    "        \n",
    "\n",
    "faculty1 = EN_Faculty(\"Sneha\", \"2024\")\n",
    "faculty2 = EN_Faculty(\"Jane Smith\", \"2023\")\n",
    "\n",
    "roster = Roster_AU()\n",
    "\n",
    "roster.add_faculty(faculty1)\n",
    "roster.add_faculty(faculty2)\n",
    "\n",
    "# Add courses for faculty\n",
    "roster.add_course(faculty1, \"Math\")\n",
    "roster.add_course(faculty1, \"Science\")\n",
    "roster.add_course(faculty2, \"English\")\n",
    "\n",
    "# Get courses for faculty\n",
    "print(roster.get_courses(faculty1))  # Output: ['Math', 'Science']\n",
    "\n",
    "# Get sorted list of faculties\n",
    "print(roster.get_sorted_faculties())  # Output: [EN_Faculty(Name: Jane Smith, Birthday: None, Classroom Year: 2023), EN_Faculty(Name: John Doe, Birthday: None, Classroom Year: 2024)]\n",
    "\n",
    "\n"
   ]
  },
  {
   "cell_type": "code",
   "execution_count": 7,
   "id": "f62eda60-8d90-4507-8541-048c5a258c2b",
   "metadata": {},
   "outputs": [
    {
     "name": "stdout",
     "output_type": "stream",
     "text": [
      "Faculties with Courses:\n"
     ]
    },
    {
     "ename": "AttributeError",
     "evalue": "'Roster_AU' object has no attribute 'get_sorted_faculties_with_courses'",
     "output_type": "error",
     "traceback": [
      "\u001b[1;31m---------------------------------------------------------------------------\u001b[0m",
      "\u001b[1;31mAttributeError\u001b[0m                            Traceback (most recent call last)",
      "Cell \u001b[1;32mIn[7], line 82\u001b[0m\n\u001b[0;32m     80\u001b[0m roster\u001b[38;5;241m.\u001b[39madd_course(faculty2, \u001b[38;5;124m\"\u001b[39m\u001b[38;5;124mEnglish\u001b[39m\u001b[38;5;124m\"\u001b[39m)\n\u001b[0;32m     81\u001b[0m \u001b[38;5;28mprint\u001b[39m(\u001b[38;5;124m\"\u001b[39m\u001b[38;5;124mFaculties with Courses:\u001b[39m\u001b[38;5;124m\"\u001b[39m)\n\u001b[1;32m---> 82\u001b[0m \u001b[38;5;28;01mfor\u001b[39;00m faculty \u001b[38;5;129;01min\u001b[39;00m \u001b[43mroster\u001b[49m\u001b[38;5;241;43m.\u001b[39;49m\u001b[43mget_sorted_faculties_with_courses\u001b[49m():\n\u001b[0;32m     83\u001b[0m     \u001b[38;5;28mprint\u001b[39m(\u001b[38;5;124mf\u001b[39m\u001b[38;5;124m\"\u001b[39m\u001b[38;5;132;01m{\u001b[39;00mfaculty\u001b[38;5;241m.\u001b[39mget_name()\u001b[38;5;132;01m}\u001b[39;00m\u001b[38;5;124m: \u001b[39m\u001b[38;5;132;01m{\u001b[39;00mroster\u001b[38;5;241m.\u001b[39mget_courses(faculty)\u001b[38;5;132;01m}\u001b[39;00m\u001b[38;5;124m\"\u001b[39m)\n",
      "\u001b[1;31mAttributeError\u001b[0m: 'Roster_AU' object has no attribute 'get_sorted_faculties_with_courses'"
     ]
    }
   ],
   "source": [
    "from datetime import datetime\n",
    "\n",
    "class Individual:\n",
    "    def __init__(self, name):\n",
    "        self.name = name\n",
    "        self.birthday = None\n",
    "\n",
    "    def get_name(self):\n",
    "        return self.name\n",
    "\n",
    "    def add_birthday(self, birthday):\n",
    "        self.birthday = birthday\n",
    "\n",
    "    def get_age(self):\n",
    "        today = datetime.now().date()\n",
    "        age = today.year - self.birthday.year\n",
    "        return age\n",
    "\n",
    "    def __str__(self):\n",
    "        return f\"Name: {self.name}, Birthday: {self.birthday}\"\n",
    "\n",
    "class AU_Employee(Individual):\n",
    "    _new_enroll = 1\n",
    "    \n",
    "    def __init__(self, name):\n",
    "        super().__init__(name)\n",
    "        self.id = AU_Employee._new_enroll\n",
    "        AU_Employee._new_enroll += 1\n",
    "        self._strval = 'AU23B100' + str(self.id)\n",
    "    \n",
    "    def get_unique_id(self):\n",
    "        return self._strval\n",
    "\n",
    "class Faculty(AU_Employee):\n",
    "    pass\n",
    "\n",
    "class EN_Faculty(Faculty):\n",
    "    def __init__(self, name, classroom_year):\n",
    "        super().__init__(name)\n",
    "        self.classroom_year = classroom_year\n",
    "\n",
    "    def assign_class(self):\n",
    "        return self.classroom_year \n",
    "\n",
    "class Roster_AU:\n",
    "    def __init__(self):\n",
    "        self.faculties = []\n",
    "        self.course_assign = {}\n",
    "\n",
    "    def add_faculty(self, faculty):\n",
    "        if faculty not in self.faculties:\n",
    "            self.faculties.append(faculty)\n",
    "            self.course_assign[faculty] = []\n",
    "\n",
    "    def add_course(self, faculty, course):\n",
    "        if faculty not in self.course_assign:\n",
    "            raise ValueError(\"Faculty not in mapping\")\n",
    "        self.course_assign[faculty].append(course)\n",
    "\n",
    "    def get_courses(self, faculty):\n",
    "        if faculty not in self.course_assign:\n",
    "            raise ValueError(\"Faculty not in mapping\")\n",
    "        return self.course_assign[faculty]\n",
    "\n",
    "    def get_sorted_list(self):\n",
    "        return sorted(self.course_assign.keys(), key=Individual.get_name)\n",
    "\n",
    "# Example usage:\n",
    "faculty1 = EN_Faculty(\"Sneha\", \"2024\")\n",
    "faculty2 = EN_Faculty(\"Jane Smith\", \"2023\")\n",
    "\n",
    "roster = Roster_AU()\n",
    "\n",
    "roster.add_faculty(faculty1)\n",
    "roster.add_faculty(faculty2)\n",
    "\n",
    "# Add courses for faculty\n",
    "roster.add_course(faculty1, \"Math\")\n",
    "roster.add_course(faculty1, \"Science\")\n",
    "roster.add_course(faculty2, \"English\")\n",
    "print(\"Faculties with Courses:\")\n",
    "for faculty in roster.get_sorted_faculties_with_courses():\n",
    "    print(f\"{faculty.get_name()}: {roster.get_courses(faculty)}\")"
   ]
  },
  {
   "cell_type": "code",
   "execution_count": 4,
   "id": "631e978f-8f76-4c28-9669-f1d1e3f00563",
   "metadata": {},
   "outputs": [],
   "source": [
    "class Individual():\n",
    "    def __init__(self,name):\n",
    "        self.name=name\n",
    "        self.birthday=None\n",
    "\n",
    "    def get_name(self,name):\n",
    "        return self.name\n",
    "\n",
    "    def add_birthday(self,birthday):\n",
    "        self.birthday=birthday\n",
    "\n",
    "    def get_age(self,name,dob):\n",
    "        self.name=name\n",
    "        self.dob=dob\n",
    "        today=datetime.now().date()\n",
    "        age=today.year-self.dob.year\n",
    "        return age\n",
    "\n",
    "    def __str__(self):\n",
    "        return str('Name : ', self.name, ' Birthday : ',self.birthday)\n",
    "\n",
    "class AU_Employee(Individual):\n",
    "    _new_enroll = 1\n",
    "    \n",
    "    def __init__(self, name):\n",
    "        super().__init__(name)\n",
    "        self.id = AU_Employee._new_enroll\n",
    "        AU_Employee._new_enroll += 1\n",
    "        self._strval = 'AU23B100' + str(self.id)\n",
    "    \n",
    "    def get_unique_id(self):\n",
    "       return self._strval\n",
    "\n",
    "\n",
    "class Faculty(AU_Employee):\n",
    "    pass\n",
    "\n",
    "\n",
    "class EN_Faculty(Faculty):\n",
    "    def __init__(self, name, classroom_year):\n",
    "        super().__init__(name)\n",
    "        self.classroom_year = classroom_year\n",
    "\n",
    "    def assign_class(self):\n",
    "        return self.classroom_year \n",
    "\n",
    "class Roster_AU():\n",
    "    def __init__(self):\n",
    "        self.faculties = []\n",
    "        self.course_assign = {}\n",
    "\n",
    "    def add_faculty(self, faculty_type, faculty):\n",
    "        if faculty not in self.faculties:\n",
    "            self.faculties.append(faculty)\n",
    "            self.course_assign[faculty] = []\n",
    "        else:\n",
    "            raise ValueError(\"Faculty already exists in the roster.\")\n",
    "\n",
    "    def add_course(self, faculty, course):\n",
    "        if faculty not in self.course_assign:\n",
    "            raise ValueError(\"Faculty not in mapping\")\n",
    "        self.course_assign[faculty].append(course)\n",
    "\n",
    "    def get_courses(self, faculty):\n",
    "        if faculty not in self.course_assign:\n",
    "            raise ValueError(\"Faculty not in mapping\")\n",
    "        return self.course_assign[faculty]\n",
    "\n",
    "    def get_sorted_faculties(self):\n",
    "        def sort_key(faculty):\n",
    "            return faculty.get_name()\n",
    "        \n",
    "        return sorted(self.course_assign.keys(), key=sort_key)\n",
    "\n",
    "\n"
   ]
  },
  {
   "cell_type": "code",
   "execution_count": 5,
   "id": "6edde590-231b-42de-99dd-32c3d7938e4a",
   "metadata": {},
   "outputs": [
    {
     "ename": "TypeError",
     "evalue": "Roster_AU.add_faculty() missing 1 required positional argument: 'faculty'",
     "output_type": "error",
     "traceback": [
      "\u001b[1;31m---------------------------------------------------------------------------\u001b[0m",
      "\u001b[1;31mTypeError\u001b[0m                                 Traceback (most recent call last)",
      "Cell \u001b[1;32mIn[5], line 78\u001b[0m\n\u001b[0;32m     74\u001b[0m faculty2 \u001b[38;5;241m=\u001b[39m EN_Faculty(\u001b[38;5;124m\"\u001b[39m\u001b[38;5;124mJane Smith\u001b[39m\u001b[38;5;124m\"\u001b[39m, \u001b[38;5;124m\"\u001b[39m\u001b[38;5;124m2023\u001b[39m\u001b[38;5;124m\"\u001b[39m)\n\u001b[0;32m     76\u001b[0m roster \u001b[38;5;241m=\u001b[39m Roster_AU()\n\u001b[1;32m---> 78\u001b[0m \u001b[43mroster\u001b[49m\u001b[38;5;241;43m.\u001b[39;49m\u001b[43madd_faculty\u001b[49m\u001b[43m(\u001b[49m\u001b[43mfaculty1\u001b[49m\u001b[43m)\u001b[49m\n\u001b[0;32m     79\u001b[0m roster\u001b[38;5;241m.\u001b[39madd_faculty(faculty2)\n\u001b[0;32m     81\u001b[0m \u001b[38;5;66;03m# Add courses for faculty\u001b[39;00m\n",
      "\u001b[1;31mTypeError\u001b[0m: Roster_AU.add_faculty() missing 1 required positional argument: 'faculty'"
     ]
    }
   ],
   "source": [
    "from datetime import datetime\n",
    "\n",
    "class Individual():\n",
    "    def __init__(self, name):\n",
    "        self.name = name\n",
    "        self.birthday = None\n",
    "\n",
    "    def get_name(self):\n",
    "        return self.name\n",
    "\n",
    "    def add_birthday(self, birthday):\n",
    "        self.birthday = birthday\n",
    "\n",
    "    def get_age(self):\n",
    "        today = datetime.now().date()\n",
    "        age = today.year - self.birthday.year\n",
    "        return age\n",
    "\n",
    "    def __str__(self):\n",
    "        return f'Name : {self.name}, Birthday : {self.birthday}'\n",
    "\n",
    "class AU_Employee(Individual):\n",
    "    _new_enroll = 1\n",
    "    \n",
    "    def __init__(self, name):\n",
    "        super().__init__(name)\n",
    "        self.id = AU_Employee._new_enroll\n",
    "        AU_Employee._new_enroll += 1\n",
    "        self._strval = 'AU23B100' + str(self.id)\n",
    "    \n",
    "    def get_unique_id(self):\n",
    "        return self._strval\n",
    "\n",
    "class Faculty(AU_Employee):\n",
    "    pass\n",
    "\n",
    "class EN_Faculty(Faculty):\n",
    "    def __init__(self, name, classroom_year):\n",
    "        super().__init__(name)\n",
    "        self.classroom_year = classroom_year\n",
    "\n",
    "    def assign_class(self):\n",
    "        return self.classroom_year \n",
    "\n",
    "class Roster_AU():\n",
    "    def __init__(self):\n",
    "        self.faculties = []\n",
    "        self.course_assign = {}\n",
    "\n",
    "    def add_faculty(self, faculty_type, faculty):\n",
    "        if faculty not in self.faculties:\n",
    "            self.faculties.append(faculty)\n",
    "            self.course_assign[faculty] = []\n",
    "        else:\n",
    "            raise ValueError(\"Faculty already exists in the roster.\")\n",
    "\n",
    "    def add_course(self, faculty, course):\n",
    "        if faculty not in self.course_assign:\n",
    "            raise ValueError(\"Faculty not in mapping\")\n",
    "        self.course_assign[faculty].append(course)\n",
    "\n",
    "    def get_courses(self, faculty):\n",
    "        if faculty not in self.course_assign:\n",
    "            raise ValueError(\"Faculty not in mapping\")\n",
    "        return self.course_assign[faculty]\n",
    "\n",
    "    def get_sorted_faculties(self):\n",
    "        def sort_key(faculty):\n",
    "            return faculty.get_name()\n",
    "        \n",
    "        return sorted(self.course_assign.keys(), key=sort_key)\n",
    "\n",
    "faculty1 = EN_Faculty(\"Sneha\", \"2024\")\n",
    "faculty2 = EN_Faculty(\"Jane Smith\", \"2023\")\n",
    "\n",
    "roster = Roster_AU()\n",
    "\n",
    "roster.add_faculty(faculty1)\n",
    "roster.add_faculty(faculty2)\n",
    "\n",
    "# Add courses for faculty\n",
    "roster.add_course(faculty1, \"Math\")\n",
    "roster.add_course(faculty1, \"Science\")\n",
    "roster.add_course(faculty2, \"English\")\n",
    "print(\"Faculties with Courses:\")\n",
    "for faculty in roster.get_sorted_faculties_with_courses():\n",
    "    print(f\"{faculty.get_name()}: {roster.get_courses(faculty)}\")\n"
   ]
  },
  {
   "cell_type": "code",
   "execution_count": 9,
   "id": "f6598e39-decc-4c28-8518-48fcb1c63d03",
   "metadata": {},
   "outputs": [
    {
     "name": "stdout",
     "output_type": "stream",
     "text": [
      "Faculties with Courses:\n",
      "Rahul Thakur: ['POE']\n",
      "Rushikesh Pawar: ['ITC', 'DT']\n",
      "Varshali Jaiswal: ['FOP']\n"
     ]
    }
   ],
   "source": [
    "from datetime import datetime\n",
    "\n",
    "class Individual():\n",
    "    def __init__(self, name):\n",
    "        self.name = name\n",
    "        self.birthday = None\n",
    "\n",
    "    def get_name(self):\n",
    "        return self.name\n",
    "\n",
    "    def add_birthday(self, birthday):\n",
    "        self.birthday = birthday\n",
    "\n",
    "    def get_age(self):\n",
    "        today = datetime.now().date()\n",
    "        age = today.year - self.birthday.year\n",
    "        return age\n",
    "\n",
    "    def __str__(self):\n",
    "        return f'Name : {self.name}, Birthday : {self.birthday}'\n",
    "\n",
    "class AU_Employee(Individual):\n",
    "    _new_enroll = 1\n",
    "    \n",
    "    def __init__(self, name):\n",
    "        super().__init__(name)\n",
    "        self.id = AU_Employee._new_enroll\n",
    "        AU_Employee._new_enroll += 1\n",
    "        self._strval = 'AU23B100' + str(self.id)\n",
    "    \n",
    "    def get_unique_id(self):\n",
    "        return self._strval\n",
    "\n",
    "class Faculty(AU_Employee):\n",
    "    pass\n",
    "\n",
    "class EN_Faculty(Faculty):\n",
    "    def __init__(self, name, classroom_year):\n",
    "        super().__init__(name)\n",
    "        self.classroom_year = classroom_year\n",
    "\n",
    "    def assign_class(self):\n",
    "        return self.classroom_year \n",
    "\n",
    "class Roster_AU():\n",
    "    def __init__(self):\n",
    "        self.faculties = []\n",
    "        self.course_assign = {}\n",
    "\n",
    "    def add_faculty(self, faculty):\n",
    "        if faculty not in self.faculties:\n",
    "            self.faculties.append(faculty)\n",
    "            self.course_assign[faculty] = []\n",
    "        else:\n",
    "            raise ValueError(\"Faculty already exists in the roster.\")\n",
    "\n",
    "    def add_course(self, faculty, course):\n",
    "        if faculty not in self.course_assign:\n",
    "            raise ValueError(\"Faculty not in mapping\")\n",
    "        self.course_assign[faculty].append(course)\n",
    "\n",
    "    def get_courses(self, faculty):\n",
    "        if faculty not in self.course_assign:\n",
    "            raise ValueError(\"Faculty not in mapping\")\n",
    "        return self.course_assign[faculty]\n",
    "\n",
    "    def get_sorted_faculties(self):\n",
    "        def sort_key(faculty):\n",
    "            return faculty.get_name()\n",
    "        \n",
    "        return sorted(self.course_assign.keys(), key=sort_key)\n",
    "\n",
    "    def get_sorted_faculties_with_courses(self):\n",
    "        sorted_faculties = self.get_sorted_faculties()\n",
    "        faculties_with_courses = {}\n",
    "        for faculty in sorted_faculties:\n",
    "            courses = self.get_courses(faculty)\n",
    "            faculties_with_courses[faculty] = courses\n",
    "        return faculties_with_courses\n",
    "\n",
    "faculty1 = EN_Faculty(\"Rushikesh Pawar\", 2024)\n",
    "faculty2 = EN_Faculty(\"Rahul Thakur\", 2024)\n",
    "faculty3 = EN_Faculty(\"Varshali Jaiswal\", 2024)\n",
    "\n",
    "roster = Roster_AU()\n",
    "\n",
    "roster.add_faculty(faculty1)\n",
    "roster.add_faculty(faculty2)\n",
    "roster.add_faculty(faculty3)\n",
    "\n",
    "roster.add_course(faculty1, \"ITC\")\n",
    "roster.add_course(faculty1, \"DT\")\n",
    "roster.add_course(faculty2, \"POE\")\n",
    "roster.add_course(faculty3, \"FOP\")\n",
    "print(\"Faculties with Courses:\")\n",
    "for faculty in roster.get_sorted_faculties_with_courses():\n",
    "    print(f\"{faculty.get_name()}: {roster.get_courses(faculty)}\")"
   ]
  },
  {
   "cell_type": "code",
   "execution_count": 10,
   "id": "09e8ea33-f99e-4676-846a-548329f63940",
   "metadata": {},
   "outputs": [
    {
     "name": "stdout",
     "output_type": "stream",
     "text": [
      "Faculties with Courses:\n",
      "Name : Rahul Thakur, Birthday : None: ['POE']\n",
      "Name : Rushikesh Pawar, Birthday : None: ['ITC', 'DT']\n"
     ]
    }
   ],
   "source": [
    "faculty1 = EN_Faculty(\"Rushikesh Pawar\", 2024)\n",
    "faculty2 = EN_Faculty(\"Rahul Thakur\", 2023)\n",
    "\n",
    "roster = Roster_AU()\n",
    "\n",
    "roster.add_faculty(faculty1)\n",
    "roster.add_faculty(faculty2)\n",
    "\n",
    "roster.add_course(faculty1, \"ITC\")\n",
    "roster.add_course(faculty1, \"DT\")\n",
    "roster.add_course(faculty2, \"POE\")\n",
    "\n",
    "print(\"Faculties with Courses:\")\n",
    "for faculty, courses in roster.get_sorted_faculties_with_courses().items():\n",
    "    print(f\"{faculty}: {courses}\")\n"
   ]
  },
  {
   "cell_type": "code",
   "execution_count": null,
   "id": "e8c2b3da-e6de-4ae8-83ba-4292307095d2",
   "metadata": {},
   "outputs": [],
   "source": []
  }
 ],
 "metadata": {
  "kernelspec": {
   "display_name": "Python 3 (ipykernel)",
   "language": "python",
   "name": "python3"
  },
  "language_info": {
   "codemirror_mode": {
    "name": "ipython",
    "version": 3
   },
   "file_extension": ".py",
   "mimetype": "text/x-python",
   "name": "python",
   "nbconvert_exporter": "python",
   "pygments_lexer": "ipython3",
   "version": "3.12.2"
  }
 },
 "nbformat": 4,
 "nbformat_minor": 5
}
